{
  "nbformat": 4,
  "nbformat_minor": 0,
  "metadata": {
    "colab": {
      "provenance": []
    },
    "kernelspec": {
      "name": "python3",
      "display_name": "Python 3"
    },
    "language_info": {
      "name": "python"
    }
  },
  "cells": [
    {
      "cell_type": "code",
      "execution_count": 1,
      "metadata": {
        "id": "Mo5E6ncGMwCT"
      },
      "outputs": [],
      "source": [
        "import pandas as pd\n",
        "import numpy as np\n",
        "import matplotlib.pyplot as plt\n",
        "import seaborn as sns\n",
        "\n",
        "from sklearn.model_selection import train_test_split\n",
        "from sklearn.preprocessing import LabelEncoder, StandardScaler\n",
        "from sklearn.linear_model import LogisticRegression\n",
        "from sklearn.tree import DecisionTreeClassifier\n",
        "from sklearn.ensemble import RandomForestClassifier\n",
        "from sklearn.svm import SVC\n",
        "from sklearn.metrics import classification_report, confusion_matrix, accuracy_score\n"
      ]
    },
    {
      "cell_type": "code",
      "source": [
        "data = pd.read_csv(\"churn_data.csv\")\n",
        "print(data.head())\n"
      ],
      "metadata": {
        "colab": {
          "base_uri": "https://localhost:8080/"
        },
        "id": "QFloW5IrNGWB",
        "outputId": "e75957d5-455f-4a10-d7f0-bd199feecf7d"
      },
      "execution_count": 6,
      "outputs": [
        {
          "output_type": "stream",
          "name": "stdout",
          "text": [
            "   ID  Gender  SeniorCitizen Married  Tenure PhoneService MultipleLines  \\\n",
            "0   0  Female              0     Yes       1           No            No   \n",
            "1   1    Male              0      No      34          Yes            No   \n",
            "2   2    Male              0      No       2          Yes            No   \n",
            "3   3    Male              0      No      45           No            No   \n",
            "4   4  Female              0      No       2          Yes            No   \n",
            "\n",
            "  InternetService TechSupport StreamingTV StreamingMovies        Contract  \\\n",
            "0             DSL          No          No              No  Month-to-month   \n",
            "1             DSL          No          No              No        One year   \n",
            "2             DSL          No          No              No  Month-to-month   \n",
            "3             DSL         Yes          No              No        One year   \n",
            "4     Fiber optic          No          No              No  Month-to-month   \n",
            "\n",
            "  PaperlessBilling              PaymentMethod  MonthlyCharges  TotalCharges  \\\n",
            "0              Yes           Electronic check           29.85         29.85   \n",
            "1               No               Mailed check           56.95       1889.50   \n",
            "2              Yes               Mailed check           53.85        108.15   \n",
            "3               No  Bank transfer (automatic)           42.30       1840.75   \n",
            "4              Yes           Electronic check           70.70        151.65   \n",
            "\n",
            "  Churn  \n",
            "0    No  \n",
            "1    No  \n",
            "2   Yes  \n",
            "3    No  \n",
            "4   Yes  \n"
          ]
        }
      ]
    },
    {
      "cell_type": "code",
      "source": [
        "# Check for missing values\n",
        "print(data.info())\n",
        "print(data.isnull().sum())\n",
        "\n",
        "# Drop irrelevant columns (e.g., customerID is not useful for predictions)\n",
        "data.drop(['ID'], axis=1, inplace=True)\n"
      ],
      "metadata": {
        "colab": {
          "base_uri": "https://localhost:8080/"
        },
        "id": "oCIBnvnKNrEI",
        "outputId": "251a9b09-5db2-4eb4-b0b4-3c38242142cd"
      },
      "execution_count": 8,
      "outputs": [
        {
          "output_type": "stream",
          "name": "stdout",
          "text": [
            "<class 'pandas.core.frame.DataFrame'>\n",
            "RangeIndex: 126 entries, 0 to 125\n",
            "Data columns (total 17 columns):\n",
            " #   Column            Non-Null Count  Dtype  \n",
            "---  ------            --------------  -----  \n",
            " 0   ID                126 non-null    int64  \n",
            " 1   Gender            126 non-null    object \n",
            " 2   SeniorCitizen     126 non-null    int64  \n",
            " 3   Married           126 non-null    object \n",
            " 4   Tenure            126 non-null    int64  \n",
            " 5   PhoneService      126 non-null    object \n",
            " 6   MultipleLines     126 non-null    object \n",
            " 7   InternetService   126 non-null    object \n",
            " 8   TechSupport       126 non-null    object \n",
            " 9   StreamingTV       126 non-null    object \n",
            " 10  StreamingMovies   126 non-null    object \n",
            " 11  Contract          126 non-null    object \n",
            " 12  PaperlessBilling  126 non-null    object \n",
            " 13  PaymentMethod     126 non-null    object \n",
            " 14  MonthlyCharges    126 non-null    float64\n",
            " 15  TotalCharges      126 non-null    float64\n",
            " 16  Churn             126 non-null    object \n",
            "dtypes: float64(2), int64(3), object(12)\n",
            "memory usage: 16.9+ KB\n",
            "None\n",
            "ID                  0\n",
            "Gender              0\n",
            "SeniorCitizen       0\n",
            "Married             0\n",
            "Tenure              0\n",
            "PhoneService        0\n",
            "MultipleLines       0\n",
            "InternetService     0\n",
            "TechSupport         0\n",
            "StreamingTV         0\n",
            "StreamingMovies     0\n",
            "Contract            0\n",
            "PaperlessBilling    0\n",
            "PaymentMethod       0\n",
            "MonthlyCharges      0\n",
            "TotalCharges        0\n",
            "Churn               0\n",
            "dtype: int64\n"
          ]
        }
      ]
    },
    {
      "cell_type": "code",
      "source": [
        "# Replace missing TotalCharges with the median\n",
        "data['TotalCharges'] = pd.to_numeric(data['TotalCharges'], errors='coerce')\n",
        "data['TotalCharges'].fillna(data['TotalCharges'].median(), inplace=True)\n"
      ],
      "metadata": {
        "colab": {
          "base_uri": "https://localhost:8080/"
        },
        "id": "IZvCU6NLNyb2",
        "outputId": "fc279288-e67e-4164-9f3d-9ef02d65322b"
      },
      "execution_count": 9,
      "outputs": [
        {
          "output_type": "stream",
          "name": "stderr",
          "text": [
            "<ipython-input-9-b3962476cb56>:3: FutureWarning: A value is trying to be set on a copy of a DataFrame or Series through chained assignment using an inplace method.\n",
            "The behavior will change in pandas 3.0. This inplace method will never work because the intermediate object on which we are setting values always behaves as a copy.\n",
            "\n",
            "For example, when doing 'df[col].method(value, inplace=True)', try using 'df.method({col: value}, inplace=True)' or df[col] = df[col].method(value) instead, to perform the operation inplace on the original object.\n",
            "\n",
            "\n",
            "  data['TotalCharges'].fillna(data['TotalCharges'].median(), inplace=True)\n"
          ]
        }
      ]
    },
    {
      "cell_type": "code",
      "source": [
        "# Convert categorical variables to numerical values\n",
        "label_encoders = {}\n",
        "for column in data.select_dtypes(include=['object']).columns:\n",
        "    label_encoders[column] = LabelEncoder()\n",
        "    data[column] = label_encoders[column].fit_transform(data[column])\n"
      ],
      "metadata": {
        "id": "ksQzfN7sN6ZA"
      },
      "execution_count": 10,
      "outputs": []
    },
    {
      "cell_type": "code",
      "source": [
        "# Scale numerical features\n",
        "scaler = StandardScaler()\n",
        "numeric_columns = ['Tenure', 'MonthlyCharges', 'TotalCharges']\n",
        "data[numeric_columns] = scaler.fit_transform(data[numeric_columns])\n"
      ],
      "metadata": {
        "id": "Ln8jBG0wN8TD"
      },
      "execution_count": 12,
      "outputs": []
    },
    {
      "cell_type": "code",
      "source": [
        "# Define features (X) and target variable (y)\n",
        "X = data.drop('Churn', axis=1)\n",
        "y = data['Churn']\n",
        "\n",
        "# Split the dataset into training and testing sets\n",
        "X_train, X_test, y_train, y_test = train_test_split(X, y, test_size=0.3, random_state=42)\n"
      ],
      "metadata": {
        "id": "jTU1ZRV8ODTT"
      },
      "execution_count": 13,
      "outputs": []
    },
    {
      "cell_type": "code",
      "source": [
        "# Train Logistic Regression\n",
        "log_reg = LogisticRegression()\n",
        "log_reg.fit(X_train, y_train)\n",
        "\n",
        "# Predict and evaluate\n",
        "y_pred_log = log_reg.predict(X_test)\n",
        "print(\"Logistic Regression Performance:\")\n",
        "print(classification_report(y_test, y_pred_log))\n",
        "print(\"Accuracy Score:\",accuracy_score(y_test, y_pred_log))"
      ],
      "metadata": {
        "colab": {
          "base_uri": "https://localhost:8080/"
        },
        "id": "RwiLKUfuOG5m",
        "outputId": "408bb9e2-123c-4dcb-ba48-f0aa3f3918c7"
      },
      "execution_count": 22,
      "outputs": [
        {
          "output_type": "stream",
          "name": "stdout",
          "text": [
            "Logistic Regression Performance:\n",
            "              precision    recall  f1-score   support\n",
            "\n",
            "           0       0.65      1.00      0.79        22\n",
            "           1       1.00      0.25      0.40        16\n",
            "\n",
            "    accuracy                           0.68        38\n",
            "   macro avg       0.82      0.62      0.59        38\n",
            "weighted avg       0.80      0.68      0.62        38\n",
            "\n",
            "Accuracy Score: 0.6842105263157895\n"
          ]
        }
      ]
    },
    {
      "cell_type": "code",
      "source": [
        "# Train Decision Tree\n",
        "dt = DecisionTreeClassifier()\n",
        "dt.fit(X_train, y_train)\n",
        "\n",
        "# Predict and evaluate\n",
        "y_pred_dt = dt.predict(X_test)\n",
        "print(\"Decision Tree Performance:\")\n",
        "print(classification_report(y_test, y_pred_dt))\n",
        "print(\"Accuracy Score:\",accuracy_score(y_test, y_pred_dt))"
      ],
      "metadata": {
        "colab": {
          "base_uri": "https://localhost:8080/"
        },
        "id": "chvQLzeEOVl6",
        "outputId": "e3ee4c75-56a7-49c3-a158-15b3d76ef193"
      },
      "execution_count": 23,
      "outputs": [
        {
          "output_type": "stream",
          "name": "stdout",
          "text": [
            "Decision Tree Performance:\n",
            "              precision    recall  f1-score   support\n",
            "\n",
            "           0       0.66      0.95      0.78        22\n",
            "           1       0.83      0.31      0.45        16\n",
            "\n",
            "    accuracy                           0.68        38\n",
            "   macro avg       0.74      0.63      0.62        38\n",
            "weighted avg       0.73      0.68      0.64        38\n",
            "\n",
            "Accuracy Score: 0.6842105263157895\n"
          ]
        }
      ]
    },
    {
      "cell_type": "code",
      "source": [
        "# Train Random Forest\n",
        "rf = RandomForestClassifier()\n",
        "rf.fit(X_train, y_train)\n",
        "\n",
        "# Predict and evaluate\n",
        "y_pred_rf = rf.predict(X_test)\n",
        "print(\"Random Forest Performance:\")\n",
        "print(classification_report(y_test, y_pred_rf))\n",
        "print(\"Accuracy Score:\",accuracy_score(y_test, y_pred_rf))"
      ],
      "metadata": {
        "colab": {
          "base_uri": "https://localhost:8080/"
        },
        "id": "WAfQg_znOYYd",
        "outputId": "d3138247-0f48-4fa3-cce4-3d0c8c6d381f"
      },
      "execution_count": 24,
      "outputs": [
        {
          "output_type": "stream",
          "name": "stdout",
          "text": [
            "Random Forest Performance:\n",
            "              precision    recall  f1-score   support\n",
            "\n",
            "           0       0.66      0.95      0.78        22\n",
            "           1       0.83      0.31      0.45        16\n",
            "\n",
            "    accuracy                           0.68        38\n",
            "   macro avg       0.74      0.63      0.62        38\n",
            "weighted avg       0.73      0.68      0.64        38\n",
            "\n",
            "Accuracy Score: 0.6842105263157895\n"
          ]
        }
      ]
    },
    {
      "cell_type": "code",
      "source": [
        "# Train Support Vector Machine\n",
        "svm = SVC()\n",
        "svm.fit(X_train, y_train)\n",
        "\n",
        "# Predict and evaluate\n",
        "y_pred_svm = svm.predict(X_test)\n",
        "print(\"Support Vector Machine Performance:\")\n",
        "print(classification_report(y_test, y_pred_svm))\n",
        "print(\"Accuracy Score:\",accuracy_score(y_test, y_pred_svm))"
      ],
      "metadata": {
        "colab": {
          "base_uri": "https://localhost:8080/"
        },
        "id": "ejUSlOibOabN",
        "outputId": "baae4023-d550-46f1-8032-59660c632ac0"
      },
      "execution_count": 25,
      "outputs": [
        {
          "output_type": "stream",
          "name": "stdout",
          "text": [
            "Support Vector Machine Performance:\n",
            "              precision    recall  f1-score   support\n",
            "\n",
            "           0       0.63      1.00      0.77        22\n",
            "           1       1.00      0.19      0.32        16\n",
            "\n",
            "    accuracy                           0.66        38\n",
            "   macro avg       0.81      0.59      0.54        38\n",
            "weighted avg       0.78      0.66      0.58        38\n",
            "\n",
            "Accuracy Score: 0.6578947368421053\n"
          ]
        }
      ]
    },
    {
      "cell_type": "code",
      "source": [
        "# Plot confusion matrix for the best model (e.g., Random Forest)\n",
        "conf_matrix = confusion_matrix(y_test, y_pred_rf)\n",
        "sns.heatmap(conf_matrix, annot=True, fmt='d', cmap='Blues')\n",
        "plt.title(\"Confusion Matrix - Random Forest\")\n",
        "plt.xlabel(\"Predicted\")\n",
        "plt.ylabel(\"Actual\")\n",
        "plt.show()\n",
        "\n",
        "# Print Accuracy Scores\n",
        "print(f\"Logistic Regression Accuracy: {accuracy_score(y_test, y_pred_log):.2f}\")\n",
        "print(f\"Decision Tree Accuracy: {accuracy_score(y_test, y_pred_dt):.2f}\")\n",
        "print(f\"Random Forest Accuracy: {accuracy_score(y_test, y_pred_rf):.2f}\")\n",
        "print(f\"SVM Accuracy: {accuracy_score(y_test, y_pred_svm):.2f}\")\n"
      ],
      "metadata": {
        "colab": {
          "base_uri": "https://localhost:8080/",
          "height": 541
        },
        "id": "1kA2FrGQPGWz",
        "outputId": "47944c4a-ac76-4bf8-d610-8a1327950566"
      },
      "execution_count": 26,
      "outputs": [
        {
          "output_type": "display_data",
          "data": {
            "text/plain": [
              "<Figure size 640x480 with 2 Axes>"
            ],
            "image/png": "[encoded data removed]"
          },
          "metadata": {}
        },
        {
          "output_type": "stream",
          "name": "stdout",
          "text": [
            "Logistic Regression Accuracy: 0.68\n",
            "Decision Tree Accuracy: 0.68\n",
            "Random Forest Accuracy: 0.68\n",
            "SVM Accuracy: 0.66\n"
          ]
        }
      ]
    },
    {
      "cell_type": "code",
      "source": [
        "# Example of new data\n",
        "new_data = pd.DataFrame({\n",
        "    'Gender': [1], 'SeniorCitizen': [0], 'Married': [1],\n",
        "    'Tenure': [12], 'PhoneService': [1], 'MultipleLines': [0],\n",
        "    'InternetService': [1], 'TechSupport': [0], 'StreamingTV': [1],\n",
        "    'StreamingMovies': [0], 'Contract': [1], 'PaperlessBilling': [1],\n",
        "    'PaymentMethod': [1], 'MonthlyCharges': [50.5], 'TotalCharges': [605.5]\n",
        "})\n",
        "\n",
        "# Preprocess and scale new data\n",
        "new_data[numeric_columns] = scaler.transform(new_data[numeric_columns])\n",
        "\n",
        "# Predict churn\n",
        "prediction = rf.predict(new_data)\n",
        "print(\"Churn Prediction:\", \"Yes\" if prediction[0] == 1 else \"No\")"
      ],
      "metadata": {
        "colab": {
          "base_uri": "https://localhost:8080/"
        },
        "id": "MBO9NwEgQQSg",
        "outputId": "824aa102-d748-4b54-e21f-16994f886ab3"
      },
      "execution_count": 37,
      "outputs": [
        {
          "output_type": "stream",
          "name": "stdout",
          "text": [
            "Churn Prediction: No\n"
          ]
        }
      ]
    }
  ]
}